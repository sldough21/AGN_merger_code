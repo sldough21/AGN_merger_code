{
 "cells": [
  {
   "cell_type": "code",
   "execution_count": 1,
   "id": "90b922c7-f739-40d8-aa3b-90dd8ea3dbda",
   "metadata": {},
   "outputs": [],
   "source": [
    "# Sean Dougherty\n",
    "# 03/15/2022\n",
    "# this file reads in the output csv filed from agn_merger.py and does some preliminary visualization\n",
    "# will later become a .py file for sharing and convinience"
   ]
  },
  {
   "cell_type": "code",
   "execution_count": 2,
   "id": "dda3c1b3-dd44-4b69-a080-8ba1bb28fcf4",
   "metadata": {},
   "outputs": [],
   "source": [
    "# at the end of csv processing, we want a df with bins as columns and iterations as rows\n",
    "# we want 3 of these: for pair AGN fraction, iso AGN fraction, and enhancement"
   ]
  },
  {
   "cell_type": "code",
   "execution_count": 7,
   "id": "8705532a-d8a5-4d05-83df-04e00e8e1491",
   "metadata": {},
   "outputs": [],
   "source": [
    "# load libraries\n",
    "import pandas as pd\n",
    "import numpy as np\n",
    "import matplotlib.pyplot as plt\n",
    "\n",
    "import os"
   ]
  },
  {
   "cell_type": "markdown",
   "id": "f219494a-38df-4afd-bfc9-eeff9eb9c8d8",
   "metadata": {},
   "source": [
    "## Checking pair and control galaxy mass and redshift distributions"
   ]
  },
  {
   "cell_type": "code",
   "execution_count": null,
   "id": "6b7710f2-b7cb-4aa2-9fc4-2597ee0e68ab",
   "metadata": {},
   "outputs": [],
   "source": []
  },
  {
   "cell_type": "markdown",
   "id": "448bfee1-8865-41a1-88fa-4d095405d122",
   "metadata": {},
   "source": [
    "## Calculate AGN fractions"
   ]
  },
  {
   "cell_type": "code",
   "execution_count": 14,
   "id": "289d19e4-e65e-4d6b-8b42-0d0c4a61023b",
   "metadata": {},
   "outputs": [
    {
     "name": "stdout",
     "output_type": "stream",
     "text": [
      "zphot_29\n",
      "zphot_23\n",
      "zphot_0\n",
      "zphot_11\n",
      "zphot_30\n",
      "zphot_47\n",
      "zphot_40\n",
      "zphot_37\n",
      "zphot_16\n",
      "zphot_7\n",
      "zphot_24\n",
      "zphot_9\n",
      "zphot_3\n",
      "zphot_20\n",
      "zphot_12\n",
      "zphot_18\n",
      "zphot_39\n",
      "zphot_44\n",
      "zphot_33\n",
      "zphot_49\n",
      "zphot_34\n",
      "zphot_43\n",
      "zphot_15\n",
      "zphot_27\n",
      "zphot_4\n",
      "zphot_17\n",
      "zphot_6\n",
      "zphot_25\n",
      "zphot_36\n",
      "zphot_41\n",
      "zphot_46\n",
      "zphot_31\n",
      "zphot_22\n",
      "zphot_28\n",
      "zphot_1\n",
      "zphot_10\n",
      "zphot_14\n",
      "zphot_26\n",
      "zphot_5\n",
      "zphot_42\n",
      "zphot_35\n",
      "zphot_48\n",
      "zphot_32\n",
      "zphot_45\n",
      "zphot_38\n",
      "zphot_2\n",
      "zphot_8\n",
      "zphot_21\n",
      "zphot_19\n",
      "zphot_13\n"
     ]
    }
   ],
   "source": [
    "# create bins\n",
    "max_dist = 100\n",
    "n_bins = 10\n",
    "bins, bin_all_pairfrac, bin_all_isofrac = make_bins(max_dist=max_dist, n_bins=n_bins)\n",
    "\n",
    "# define X-ray luminosity AGN limit\n",
    "LX_AGN = 42\n",
    "\n",
    "# create dictionaries to store AGN fractions\n",
    "bin_AGN = {}\n",
    "bin_pairfrac = {}\n",
    "bin_isofrac = {}\n",
    "\n",
    "# read through all the iteration files\n",
    "data_path = '/nobackup/c1029594/CANDELS_AGN_merger_data/agn_merger_output/'\n",
    "for file in os.listdir(data_path):\n",
    "    print(file)\n",
    "#     it_df = pd.read_csv(file)\n",
    "    \n",
    "#     # separate pairs into bins\n",
    "#     for rnge in bins:\n",
    "#         # get bin ranges from bins dictionary entries\n",
    "#         info = all_bins[rnge].split('-')\n",
    "#         low = float(info[0])\n",
    "#         high = float(info[1])\n",
    "        \n",
    "#         # sort into bins\n",
    "#         bin_df = it_df[ (it_df['kpc_sep'] > low) & (it_df['kpc_sep'] <= high) ]\n",
    "        \n",
    "#         # calculate the AGN fraction in that bin and append it to same calculation accross iteration\n",
    "#         bin_pairfrac['AGNfrac_in_'+rnge] = ((  (bin_df[ (bin_df['prime_drawn_LX'] > 42) ]).count() +\n",
    "#                                              (bin_df[ (bin_df['partner_drawn_LX'] > 42) ]).count()\n",
    "#                                             ) /\n",
    "#                                             (  bin_df['prime_drawn_LX'].count() +\n",
    "#                                              bin_df['partner_drawn_LX'].count()\n",
    "#                                             ))\n",
    "#         bin_all_pairfrac['all_AGNfrac_in_'+rnge].append(bin_pairfrac['AGNfrac_in_'+rnge])\n",
    "\n",
    "        \n",
    "#         bin_isofrac['AGNfrac_in_'+rnge] = ((  (bin_df[ (bin_df['prime_control1_drawn_LX'] > 42).count() ]) +\n",
    "#                                             (bin_df[ (bin_df['prime_control2_drawn_LX'] > 42) ]).count() +\n",
    "#                                             (bin_df[ (bin_df['partner_control1_drawn_LX'] > 42) ]).count() +\n",
    "#                                             (bin_df[ (bin_df['partner_control2_drawn_LX'] > 42) ]).count() \n",
    "#                                            ) /\n",
    "#                                             (  bin_df['prime_control1_drawn_LX'].count() +\n",
    "#                                              bin_df['prime_control2_drawn_LX'].count() +\n",
    "#                                              bin_df['partner_control1_drawn_LX'].count() +\n",
    "#                                              bin_df['partner_control2_drawn_LX'].count() ))\n",
    "#         bin_all_isofrac['all_AGNfrac_in_'+rnge].append(bin_isofrac['AGNfrac_in_'+rnge])\n",
    "        "
   ]
  },
  {
   "cell_type": "code",
   "execution_count": 11,
   "id": "371172b9-170a-4624-8177-1f52df0818f3",
   "metadata": {},
   "outputs": [],
   "source": [
    "def make_bins(max_dist=100, n_bins=10):\n",
    "\n",
    "    bin_all_AGNfrac = {}\n",
    "    bin_all_isofrac = {}\n",
    "\n",
    "    # create bin sizes\n",
    "    all_bins = {}\n",
    "    for i in range(0, n_bins):\n",
    "        # define limits for each bin\n",
    "        all_bins['bin'+str(i)] = str((max_dist/n_bins)*i)+'-'+str((max_dist/n_bins)+(max_dist/n_bins)*i)\n",
    "        # define empty lists to later append AGN fractions to\n",
    "        bin_all_AGNfrac['all_AGNfrac_in_bin'+str(i)] = []\n",
    "        bin_all_isofrac['all_isofrac_in_bin'+str(i)] = []\n",
    "    \n",
    "    return all_bins, bin_all_AGNfrac, bin_all_isofrac"
   ]
  },
  {
   "cell_type": "code",
   "execution_count": null,
   "id": "4085b12c-76e0-462e-a210-fa16d916b156",
   "metadata": {},
   "outputs": [],
   "source": [
    "# create dataframes from the dictionaries:\n",
    "pAGNf_df = pd.from_dict(bin_all_pairfrac)\n",
    "iAGNf_df = pd.from_dict(bin_all_isofrac)"
   ]
  },
  {
   "cell_type": "code",
   "execution_count": null,
   "id": "4c5eeb44-3c8f-4fe1-a4c2-8806ea046588",
   "metadata": {},
   "outputs": [],
   "source": [
    "# plot distributions\n",
    "pAGNf_df.plt.hist(bins=10, histtype='step')"
   ]
  }
 ],
 "metadata": {
  "kernelspec": {
   "display_name": "Python 3",
   "language": "python",
   "name": "python3"
  },
  "language_info": {
   "codemirror_mode": {
    "name": "ipython",
    "version": 3
   },
   "file_extension": ".py",
   "mimetype": "text/x-python",
   "name": "python",
   "nbconvert_exporter": "python",
   "pygments_lexer": "ipython3",
   "version": "3.6.9"
  }
 },
 "nbformat": 4,
 "nbformat_minor": 5
}
